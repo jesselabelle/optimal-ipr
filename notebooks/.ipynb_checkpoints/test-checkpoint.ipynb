{
 "cells": [
  {
   "cell_type": "code",
   "execution_count": null,
   "id": "fd8f6097",
   "metadata": {},
   "outputs": [],
   "source": [
    "from pathlib import Path\n",
    "import sys\n",
    "\n",
    "here = Path.cwd()\n",
    "repo_root = next(p for p in [here, *here.parents] if (p/\"pyproject.toml\").exists())\n",
    "src = repo_root / \"src\"\n",
    "if str(src) not in sys.path:\n",
    "    sys.path.insert(0, str(src))\n",
    "\n",
    "import numpy as np\n",
    "import pandas as pd\n",
    "import matplotlib.pyplot as plt"
   ]
  },
  {
   "cell_type": "code",
   "execution_count": null,
   "id": "814f3dc6-6a7f-4584-a100-121d287642c0",
   "metadata": {},
   "outputs": [],
   "source": [
    "from optimal_ipr.distributions import value_distribution, build_theta_distribution\n",
    "from optimal_ipr.probability import build_subjective_probability\n",
    "from optimal_ipr.cost import build_cost_function\n",
    "from optimal_ipr.fee import build_fee_schedule\n",
    "from optimal_ipr.lookup import build_lookup_tables\n",
    "from optimal_ipr.outcomes import welfare_outcomes"
   ]
  },
  {
   "cell_type": "code",
   "execution_count": null,
   "id": "9b717e93-813e-457b-a26e-badfcf431206",
   "metadata": {},
   "outputs": [],
   "source": [
    "# value distribution\n",
    "test_n_v = 51\n",
    "test_sigma = 3.0\n",
    "\n",
    "v_grid, v_weights = value_distribution(n_v=test_n_v, sigma=test_sigma)"
   ]
  },
  {
   "cell_type": "code",
   "execution_count": null,
   "id": "c41a48f7-f051-48ac-9d96-84e508a57ec7",
   "metadata": {},
   "outputs": [],
   "source": [
    "Ev = np.sum(v_grid * v_weights)\n",
    "Var_v = np.sum((v_grid**2) * v_weights) - Ev**2\n",
    "target_mean = 1.0\n",
    "\n",
    "print(f'Idea-Value Distribution (v)')\n",
    "print(f'---------------------------')\n",
    "print(f\"Method: Lognormal with Gauss-Hermite Discretization\")\n",
    "print(f\"Number of nodes (test_n_v): {test_n_v}\")\n",
    "print(f\"Target E[v]: {target_mean:.4f}  |  Actual E[v]: {Ev:.4f}\")\n",
    "print(f\"Var(v): {Var_v:.4f}\")\n",
    "print(f'-' * 35)\n",
    "\n",
    "plt.figure(figsize=(10, 6))\n",
    "plt.stem(v_grid, v_weights, basefmt=\"-\")\n",
    "plt.xlabel(\"Idea Value ($v_i$)\")\n",
    "plt.ylabel(\"Probability Weight ($w_i$)\")\n",
    "plt.title(\"Discretized Lognormal Distribution of Idea Value (v)\")\n",
    "plt.grid(True, which='both', linestyle='--', linewidth=0.5)\n",
    "plt.show()"
   ]
  },
  {
   "cell_type": "code",
   "execution_count": null,
   "id": "f316df3e-3edb-43df-892d-96131aee8885",
   "metadata": {},
   "outputs": [],
   "source": [
    "# theta distribution\n",
    "f, F, F_inv = build_theta_distribution(noise_level=0.20)\n",
    "\n",
    "# scalar wrapper for F when a scalar is required\n",
    "F_scalar = lambda t: float(F(np.array([t])))"
   ]
  },
  {
   "cell_type": "code",
   "execution_count": null,
   "id": "3ee08915-a96b-457e-8236-387ed4b79c04",
   "metadata": {},
   "outputs": [],
   "source": [
    "thresholds = [0.0, 0.05, 0.10, 0.20, 0.25, 0.5, 0.75, 0.9, 0.95, 0.99, 0.999]\n",
    "\n",
    "# Calculate the number of firms with a type greater than each threshold\n",
    "firms_above = [int((1.0 - F(t)) * 29_990) for t in thresholds]\n",
    "\n",
    "summary_df = pd.DataFrame({\n",
    "    'Theta Threshold': thresholds,\n",
    "    'Firms Above This Type': firms_above\n",
    "})\n",
    "\n",
    "# Apply formatting for a clean display\n",
    "print(\"\\n--- Summary of Calibrated Firm Distribution ---\")\n",
    "format_dict = {'Theta Threshold': '{:.4f}', 'Firms Above This Type': '{:,}'}\n",
    "display(summary_df.style.format(format_dict).hide(axis=\"index\"))"
   ]
  },
  {
   "cell_type": "code",
   "execution_count": null,
   "id": "c02d74b7-19fe-43c0-85d6-1f977f5a1e5f",
   "metadata": {},
   "outputs": [],
   "source": [
    "median_theta = F_inv(0.5)\n",
    "print(f\"The median theta is: {median_theta:.4f}, consistent with graphs above\")"
   ]
  },
  {
   "cell_type": "code",
   "execution_count": null,
   "id": "f9c3ae36-a70e-4447-b6ac-100b94a323c1",
   "metadata": {},
   "outputs": [],
   "source": [
    "p = build_subjective_probability(base_k=1.25, m_comp=5, F=F, F_inv=F_inv)"
   ]
  },
  {
   "cell_type": "code",
   "execution_count": null,
   "id": "e178b0ed-2a2c-4f11-b9f1-1052fda07e0b",
   "metadata": {},
   "outputs": [],
   "source": [
    "v_values = [0.001, 0.1, 0.5, 0.75, 1, 5, 10, 20, 100, 1000, 5000, 10000, int(max(v_grid))]\n",
    "theta_thresholds = [0.0, 0.05, 0.10, 0.20, 0.25, 0.5, 0.75, 0.9, 0.95, 0.99, 0.999, 0.9995, 0.9999]\n",
    "\n",
    "table_data = {}\n",
    "for v in v_values:\n",
    "    table_data[f'v={v}'] = [p(theta, v) for theta in theta_thresholds]\n",
    "    \n",
    "df = pd.DataFrame(table_data, index=theta_thresholds)\n",
    "df.index.name = r'$\\theta$'\n",
    "formatted_table = df.style.format(\"{:.2%}\") \\\n",
    "                          .format_index(\"{:.4f}\") \\\n",
    "                          .set_caption(r\"Perceived winning Probability $p(\\theta, v)$\")\n",
    "\n",
    "display(formatted_table)"
   ]
  },
  {
   "cell_type": "code",
   "execution_count": null,
   "id": "5048319a-9a1b-4798-a7ae-1c0343408c1e",
   "metadata": {},
   "outputs": [],
   "source": [
    "c = build_cost_function(f, TARGET_AVG_COST_SHARE=0.50, C_MIN_COST=0.05, GAMMA_C_COST=3.0)"
   ]
  },
  {
   "cell_type": "code",
   "execution_count": null,
   "id": "1a4e698a-5c98-4751-b197-c1544fc8d598",
   "metadata": {},
   "outputs": [],
   "source": [
    "Z = build_fee_schedule(zeta=0.04, fee_M=1.5)"
   ]
  },
  {
   "cell_type": "code",
   "execution_count": null,
   "id": "f6a71ddb-5440-4881-8c8f-4e1c1f6b30fa",
   "metadata": {},
   "outputs": [],
   "source": [
    "tau_d_grid = np.array([0.20])   # adjust as needed\n",
    "tau_f_grid = np.array([0.05])         # adjust as needed\n",
    "bar_beta_grid = np.linspace(0.0, 1.0, 101)  # matches earlier modules\n",
    "\n",
    "theta_tilde_table, theta_winner_table, get_tau_d_index, get_tau_f_index, get_bar_beta_index, get_v_index = \\\n",
    "    build_lookup_tables(p, c, Z, f, F_scalar, tau_d_grid, tau_f_grid, bar_beta_grid, v_grid)\n",
    "\n",
    "print(f\"Value from parallel table: {theta_tilde_table[get_tau_d_index(0.20), get_tau_f_index(0.05), get_bar_beta_index(0.8), get_v_index(1.0)]:.6f}\")"
   ]
  },
  {
   "cell_type": "code",
   "execution_count": null,
   "id": "36ae7ed9-5806-4de0-8da8-76caa8fe1cc6",
   "metadata": {},
   "outputs": [],
   "source": [
    "# government weights over theta\n",
    "GOVERNMENT_PREFERENCES = {\n",
    "    \"utilitarian\":          lambda th: 1.0\n",
    "}\n",
    "\n",
    "# regulator schemes\n",
    "REGULATOR_PREFERENCES = {\n",
    "    \"welfarist_balanced\": {\"phi\": 0.5, \"psi\": 0.5}\n",
    "}\n",
    "\n",
    "results_table = welfare_outcomes(\n",
    "    tau_d=tau_d_grid,\n",
    "    tau_f=tau_f_grid,\n",
    "    gov_prefs=GOVERNMENT_PREFERENCES,\n",
    "    reg_prefs=REGULATOR_PREFERENCES,\n",
    "    v_grid=v_grid,\n",
    "    v_weights=v_weights,\n",
    "    theta_tilde_table=theta_tilde_table,\n",
    "    theta_winner_table=theta_winner_table,\n",
    "    f=f,\n",
    "    F=F,            # vectorized is fine; module wraps when needed\n",
    "    F_inv=F_inv,\n",
    "    p=p,\n",
    "    c=c,\n",
    "    Z=Z,\n",
    "    feas=False,      # enforce feasibility\n",
    ")\n",
    "\n",
    "results_table"
   ]
  },
  {
   "cell_type": "code",
   "execution_count": null,
   "id": "0d831ff9-abdf-4d98-b451-889e218cfa46",
   "metadata": {},
   "outputs": [],
   "source": []
  },
  {
   "cell_type": "code",
   "execution_count": null,
   "id": "91ecba59-5434-44d9-b38a-2690b734bdda",
   "metadata": {},
   "outputs": [],
   "source": []
  }
 ],
 "metadata": {
  "kernelspec": {
   "display_name": "Python (optimal-ipr)",
   "language": "python",
   "name": "optimal-ipr"
  },
  "language_info": {
   "codemirror_mode": {
    "name": "ipython",
    "version": 3
   },
   "file_extension": ".py",
   "mimetype": "text/x-python",
   "name": "python",
   "nbconvert_exporter": "python",
   "pygments_lexer": "ipython3",
   "version": "3.13.6"
  }
 },
 "nbformat": 4,
 "nbformat_minor": 5
}

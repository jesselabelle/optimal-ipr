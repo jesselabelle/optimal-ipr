{
 "cells": [
  {
   "cell_type": "code",
   "execution_count": 1,
   "id": "e5986b35",
   "metadata": {},
   "outputs": [],
   "source": [
    "from pathlib import Path\n",
    "import sys\n",
    "\n",
    "here = Path.cwd()\n",
    "repo_root = next(p for p in [here, *here.parents] if (p/\"pyproject.toml\").exists())\n",
    "src = repo_root / \"src\"\n",
    "if str(src) not in sys.path:\n",
    "    sys.path.insert(0, str(src))"
   ]
  },
  {
   "cell_type": "code",
   "execution_count": 2,
   "id": "ab4bc671-a04a-4ddc-9a9e-0ad04b8d5ea9",
   "metadata": {},
   "outputs": [],
   "source": [
    "## import random\n",
    "from decimal import Decimal\n",
    "\n",
    "import numpy as np\n",
    "import pandas as pd\n",
    "import matplotlib.pyplot as plt\n",
    "import random\n",
    "from time import time\n",
    "from joblib import Parallel, delayed\n",
    "from tqdm.auto import tqdm\n",
    "from dataclasses import dataclass\n",
    "from typing import Any, Dict\n",
    "\n",
    "from optimal_ipr.distributions import value_distribution, build_theta_distribution\n",
    "from optimal_ipr.probability import build_subjective_probability\n",
    "from optimal_ipr.cost import build_cost_function\n",
    "from optimal_ipr.fee import build_fee_schedule\n",
    "from optimal_ipr.lookup import build_lookup_tables\n",
    "from optimal_ipr.outcomes import welfare_outcomes\n",
    "\n",
    "np.random.seed(42)\n",
    "random.seed(42)\n",
    "\n",
    "RESULTS_DIR = Path(\"results/robustness\")\n",
    "RESULTS_DIR.mkdir(parents=True, exist_ok=True)\n",
    "\n",
    "\n",
    "def ensure_exists(path: Path) -> Path:\n",
    "    \"\"\"Ensure parent directory exists for the given path and return the path.\"\"\"\n",
    "    path.parent.mkdir(parents=True, exist_ok=True)\n",
    "    return path"
   ]
  },
  {
   "cell_type": "code",
   "execution_count": 3,
   "id": "e0f5fed0-6ca2-40d7-b5d3-7b3991dc4b39",
   "metadata": {},
   "outputs": [
    {
     "name": "stdout",
     "output_type": "stream",
     "text": [
      "package root: C:\\Users\\jesse\\OneDrive\\Research\\Optimal IPR in a BEPS World\\model\\optimal-ipr\\src\\optimal_ipr\\__init__.py\n",
      "value_distribution: C:\\Users\\jesse\\OneDrive\\Research\\Optimal IPR in a BEPS World\\model\\optimal-ipr\\src\\optimal_ipr\\distributions\\value_distribution.py\n",
      "probability: C:\\Users\\jesse\\OneDrive\\Research\\Optimal IPR in a BEPS World\\model\\optimal-ipr\\src\\optimal_ipr\\probability\\__init__.py\n",
      "cost: C:\\Users\\jesse\\OneDrive\\Research\\Optimal IPR in a BEPS World\\model\\optimal-ipr\\src\\optimal_ipr\\cost\\__init__.py\n",
      "fee: C:\\Users\\jesse\\OneDrive\\Research\\Optimal IPR in a BEPS World\\model\\optimal-ipr\\src\\optimal_ipr\\fee\\__init__.py\n",
      "lookup: C:\\Users\\jesse\\OneDrive\\Research\\Optimal IPR in a BEPS World\\model\\optimal-ipr\\src\\optimal_ipr\\lookup\\__init__.py\n",
      "outcomes: C:\\Users\\jesse\\OneDrive\\Research\\Optimal IPR in a BEPS World\\model\\optimal-ipr\\src\\optimal_ipr\\outcomes\\__init__.py\n"
     ]
    }
   ],
   "source": [
    "import inspect, optimal_ipr  # adds the package obj for inspection\n",
    "\n",
    "print(\"package root:\", optimal_ipr.__file__)\n",
    "print(\"value_distribution:\", inspect.getfile(optimal_ipr.distributions.value_distribution))\n",
    "print(\"probability:\", inspect.getfile(optimal_ipr.probability))\n",
    "print(\"cost:\", inspect.getfile(optimal_ipr.cost))\n",
    "print(\"fee:\", inspect.getfile(optimal_ipr.fee))\n",
    "print(\"lookup:\", inspect.getfile(optimal_ipr.lookup))\n",
    "print(\"outcomes:\", inspect.getfile(optimal_ipr.outcomes))"
   ]
  },
  {
   "cell_type": "code",
   "execution_count": 4,
   "id": "377b0c15",
   "metadata": {},
   "outputs": [],
   "source": [
    "def utilitarian(th):\n",
    "    return 1.0\n",
    "\n",
    "GOVERNMENT_PREFERENCES = {\"utilitarian\": utilitarian}\n",
    "REGULATOR_PREFERENCES = {\"welfarist_balanced\": {\"phi\": 0.6, \"psi\": 0.3}}\n",
    "\n",
    "\n",
    "@dataclass(frozen=True)\n",
    "class Context:\n",
    "    v_grid: np.ndarray\n",
    "    v_weights: np.ndarray\n",
    "    f: Any\n",
    "    F: Any\n",
    "    F_inv: Any\n",
    "    p: Any\n",
    "    Z: Any\n",
    "    tau_d: float\n",
    "    tau_f: float\n",
    "    bar_beta_grid: np.ndarray\n",
    "    gov_prefs: Dict[str, Any]\n",
    "    reg_prefs: Dict[str, Any]\n",
    "\n",
    "\n",
    "def build_context() -> Context:\n",
    "    \"\"\"Build invariant components of the model.\"\"\"\n",
    "    v_grid, v_weights = value_distribution(n_v=41, sigma=1.0)\n",
    "    f, F, F_inv = build_theta_distribution(noise_level=0.20)\n",
    "    p = build_subjective_probability(base_k=1.2, m_comp=25, F=F, F_inv=F_inv)\n",
    "    Z = build_fee_schedule(zeta=0.04, fee_M=1.5)\n",
    "    tau_d = 0.20\n",
    "    tau_f = 0.05\n",
    "    bar_beta_grid = np.linspace(0.0, 1.0, 101)\n",
    "    return Context(v_grid, v_weights, f, F, F_inv, p, Z, tau_d, tau_f, bar_beta_grid,\n",
    "                   GOVERNMENT_PREFERENCES, REGULATOR_PREFERENCES)\n",
    "\n",
    "ctx = build_context()"
   ]
  },
  {
   "cell_type": "code",
   "execution_count": 5,
   "id": "652e0bff",
   "metadata": {},
   "outputs": [],
   "source": [
    "def run_for_share(share: float, ctx: Context) -> dict:\n",
    "    \"\"\"Run government optimization for a given TARGET_AVG_COST_SHARE.\"\"\"\n",
    "    c = build_cost_function(ctx.f, TARGET_AVG_COST_SHARE=share, C_MIN_COST=0.05, GAMMA_C_COST=3.0)\n",
    "    F_scalar = lambda t: float(ctx.F(np.array([t])))\n",
    "    theta_tilde_table, theta_winner_table, *_ = build_lookup_tables(\n",
    "        ctx.p, c, ctx.Z, ctx.f, F_scalar, ctx.tau_d, ctx.tau_f, ctx.bar_beta_grid, ctx.v_grid, seed=42\n",
    "    )\n",
    "    results_table = welfare_outcomes(\n",
    "        tau_d=ctx.tau_d,\n",
    "        tau_f=ctx.tau_f,\n",
    "        gov_prefs=ctx.gov_prefs,\n",
    "        reg_prefs=ctx.reg_prefs,\n",
    "        v_grid=ctx.v_grid,\n",
    "        v_weights=ctx.v_weights,\n",
    "        theta_tilde_table=theta_tilde_table,\n",
    "        theta_winner_table=theta_winner_table,\n",
    "        f=ctx.f,\n",
    "        F=ctx.F,\n",
    "        F_inv=ctx.F_inv,\n",
    "        p=ctx.p,\n",
    "        c=c,\n",
    "        Z=ctx.Z,\n",
    "        feas=False,\n",
    "    )\n",
    "    if results_table.empty:\n",
    "        raise ValueError(\"welfare_outcomes returned an empty table\")\n",
    "    bar_beta_opt = float(results_table.loc[0, 'Optimal Policy'])\n",
    "    welfare_pct_change = float(results_table.loc[0, 'Welfare % Change'])\n",
    "    return {\n",
    "        'target_avg_cost_share': share,\n",
    "        'bar_beta_opt': bar_beta_opt,\n",
    "        'welfare_pct_change': welfare_pct_change,\n",
    "    }"
   ]
  },
  {
   "cell_type": "code",
   "execution_count": 6,
   "id": "31f78b41",
   "metadata": {},
   "outputs": [
    {
     "data": {
      "application/vnd.jupyter.widget-view+json": {
       "model_id": "5ab06772c15a47d1a12b1cbb5f118038",
       "version_major": 2,
       "version_minor": 0
      },
      "text/plain": [
       "  0%|          | 0/14 [00:00<?, ?it/s]"
      ]
     },
     "metadata": {},
     "output_type": "display_data"
    }
   ],
   "source": [
    "shares = [round(0.10 + 0.05 * i, 2) for i in range(14)]\n",
    "start_time = time()\n",
    "results = Parallel(n_jobs=-1, backend=\"loky\")(\n",
    "    delayed(run_for_share)(s, ctx) for s in tqdm(shares)\n",
    ")\n",
    "total_time = time() - start_time\n",
    "results_df = pd.DataFrame(results).sort_values(\"target_avg_cost_share\").reset_index(drop=True)"
   ]
  },
  {
   "cell_type": "code",
   "execution_count": 9,
   "id": "51272131-75d6-4ac0-8363-f4dde1e4370b",
   "metadata": {},
   "outputs": [
    {
     "data": {
      "text/html": [
       "<div>\n",
       "<style scoped>\n",
       "    .dataframe tbody tr th:only-of-type {\n",
       "        vertical-align: middle;\n",
       "    }\n",
       "\n",
       "    .dataframe tbody tr th {\n",
       "        vertical-align: top;\n",
       "    }\n",
       "\n",
       "    .dataframe thead th {\n",
       "        text-align: right;\n",
       "    }\n",
       "</style>\n",
       "<table border=\"1\" class=\"dataframe\">\n",
       "  <thead>\n",
       "    <tr style=\"text-align: right;\">\n",
       "      <th></th>\n",
       "      <th>target_avg_cost_share</th>\n",
       "      <th>bar_beta_opt</th>\n",
       "      <th>welfare_pct_change</th>\n",
       "    </tr>\n",
       "  </thead>\n",
       "  <tbody>\n",
       "    <tr>\n",
       "      <th>0</th>\n",
       "      <td>0.10</td>\n",
       "      <td>0.89</td>\n",
       "      <td>NaN</td>\n",
       "    </tr>\n",
       "    <tr>\n",
       "      <th>1</th>\n",
       "      <td>0.15</td>\n",
       "      <td>0.89</td>\n",
       "      <td>NaN</td>\n",
       "    </tr>\n",
       "    <tr>\n",
       "      <th>2</th>\n",
       "      <td>0.20</td>\n",
       "      <td>0.89</td>\n",
       "      <td>NaN</td>\n",
       "    </tr>\n",
       "    <tr>\n",
       "      <th>3</th>\n",
       "      <td>0.25</td>\n",
       "      <td>0.89</td>\n",
       "      <td>NaN</td>\n",
       "    </tr>\n",
       "    <tr>\n",
       "      <th>4</th>\n",
       "      <td>0.30</td>\n",
       "      <td>0.89</td>\n",
       "      <td>NaN</td>\n",
       "    </tr>\n",
       "    <tr>\n",
       "      <th>5</th>\n",
       "      <td>0.35</td>\n",
       "      <td>0.89</td>\n",
       "      <td>NaN</td>\n",
       "    </tr>\n",
       "    <tr>\n",
       "      <th>6</th>\n",
       "      <td>0.40</td>\n",
       "      <td>0.89</td>\n",
       "      <td>NaN</td>\n",
       "    </tr>\n",
       "    <tr>\n",
       "      <th>7</th>\n",
       "      <td>0.45</td>\n",
       "      <td>0.89</td>\n",
       "      <td>NaN</td>\n",
       "    </tr>\n",
       "    <tr>\n",
       "      <th>8</th>\n",
       "      <td>0.50</td>\n",
       "      <td>0.89</td>\n",
       "      <td>NaN</td>\n",
       "    </tr>\n",
       "    <tr>\n",
       "      <th>9</th>\n",
       "      <td>0.55</td>\n",
       "      <td>0.89</td>\n",
       "      <td>NaN</td>\n",
       "    </tr>\n",
       "    <tr>\n",
       "      <th>10</th>\n",
       "      <td>0.60</td>\n",
       "      <td>0.89</td>\n",
       "      <td>NaN</td>\n",
       "    </tr>\n",
       "    <tr>\n",
       "      <th>11</th>\n",
       "      <td>0.65</td>\n",
       "      <td>0.89</td>\n",
       "      <td>NaN</td>\n",
       "    </tr>\n",
       "    <tr>\n",
       "      <th>12</th>\n",
       "      <td>0.70</td>\n",
       "      <td>0.89</td>\n",
       "      <td>NaN</td>\n",
       "    </tr>\n",
       "    <tr>\n",
       "      <th>13</th>\n",
       "      <td>0.75</td>\n",
       "      <td>0.89</td>\n",
       "      <td>NaN</td>\n",
       "    </tr>\n",
       "  </tbody>\n",
       "</table>\n",
       "</div>"
      ],
      "text/plain": [
       "    target_avg_cost_share  bar_beta_opt  welfare_pct_change\n",
       "0                    0.10          0.89                 NaN\n",
       "1                    0.15          0.89                 NaN\n",
       "2                    0.20          0.89                 NaN\n",
       "3                    0.25          0.89                 NaN\n",
       "4                    0.30          0.89                 NaN\n",
       "5                    0.35          0.89                 NaN\n",
       "6                    0.40          0.89                 NaN\n",
       "7                    0.45          0.89                 NaN\n",
       "8                    0.50          0.89                 NaN\n",
       "9                    0.55          0.89                 NaN\n",
       "10                   0.60          0.89                 NaN\n",
       "11                   0.65          0.89                 NaN\n",
       "12                   0.70          0.89                 NaN\n",
       "13                   0.75          0.89                 NaN"
      ]
     },
     "execution_count": 9,
     "metadata": {},
     "output_type": "execute_result"
    }
   ],
   "source": [
    "results_df"
   ]
  },
  {
   "cell_type": "code",
   "execution_count": 7,
   "id": "2c1a556d",
   "metadata": {},
   "outputs": [
    {
     "data": {
      "image/png": "[encoded data removed]",
      "text/plain": [
       "<Figure size 1600x900 with 2 Axes>"
      ]
     },
     "metadata": {},
     "output_type": "display_data"
    }
   ],
   "source": [
    "csv_path = ensure_exists(RESULTS_DIR / \"target_avg_cost_share_sweep.csv\")\n",
    "results_df.to_csv(csv_path, index=False)\n",
    "\n",
    "plt.rcParams.update({\"font.size\": 14})\n",
    "fig, ax1 = plt.subplots(figsize=(16, 9))\n",
    "color1, color2 = \"tab:blue\", \"tab:orange\"\n",
    "ax1.set_xlabel(\"Target Average Cost Share\")\n",
    "ax1.set_ylabel(r\"Optimal $\\overline{\\beta}$\", color=color1)\n",
    "ax1.plot(results_df[\"target_avg_cost_share\"], results_df[\"bar_beta_opt\"], marker=\"o\", color=color1, label=r\"Optimal $\\overline{\\beta}$\")\n",
    "ax2 = ax1.twinx()\n",
    "ax2.set_ylabel(\"Welfare % Change\", color=color2)\n",
    "ax2.plot(results_df[\"target_avg_cost_share\"], results_df[\"welfare_pct_change\"], marker=\"s\", color=color2, label=\"Welfare % Change\")\n",
    "fig.legend(loc=\"upper left\", bbox_to_anchor=(0.1, 0.9))\n",
    "caption = \"Robustness sweep with tau_d=0.2 and tau_f=0.05\"\n",
    "fig.suptitle(\"TARGET_AVG_COST_SHARE Robustness\")\n",
    "fig.text(0.5, -0.05, caption, ha=\"center\")\n",
    "png_path = ensure_exists(RESULTS_DIR / \"target_avg_cost_share_sweep.png\")\n",
    "fig.savefig(png_path, dpi=100, bbox_inches=\"tight\")\n",
    "plt.show()"
   ]
  },
  {
   "cell_type": "code",
   "execution_count": 8,
   "id": "1784d605",
   "metadata": {},
   "outputs": [
    {
     "data": {
      "application/vnd.jupyter.widget-view+json": {
       "model_id": "254b7964eafd4ccc9636080b4b45fb1b",
       "version_major": 2,
       "version_minor": 0
      },
      "text/plain": [
       "Processing tau pairs:   0%|          | 0/1 [00:00<?, ?it/s]"
      ]
     },
     "metadata": {},
     "output_type": "display_data"
    },
    {
     "ename": "AssertionError",
     "evalue": "Baseline cross-check failed",
     "output_type": "error",
     "traceback": [
      "\u001b[31m---------------------------------------------------------------------------\u001b[39m",
      "\u001b[31mAssertionError\u001b[39m                            Traceback (most recent call last)",
      "\u001b[36mCell\u001b[39m\u001b[36m \u001b[39m\u001b[32mIn[8]\u001b[39m\u001b[32m, line 14\u001b[39m\n\u001b[32m     12\u001b[39m \u001b[38;5;28;01melse\u001b[39;00m:\n\u001b[32m     13\u001b[39m     status = \u001b[33m\"\u001b[39m\u001b[33mFAILED\u001b[39m\u001b[33m\"\u001b[39m\n\u001b[32m---> \u001b[39m\u001b[32m14\u001b[39m     \u001b[38;5;28;01mraise\u001b[39;00m \u001b[38;5;167;01mAssertionError\u001b[39;00m(\u001b[33m\"\u001b[39m\u001b[33mBaseline cross-check failed\u001b[39m\u001b[33m\"\u001b[39m)\n\u001b[32m     16\u001b[39m \u001b[38;5;28mprint\u001b[39m(\u001b[33mf\u001b[39m\u001b[33m\"\u001b[39m\u001b[33mBaseline cross-check \u001b[39m\u001b[38;5;132;01m{\u001b[39;00mstatus\u001b[38;5;132;01m}\u001b[39;00m\u001b[33m: Δbar_beta_opt=\u001b[39m\u001b[38;5;132;01m{\u001b[39;00mbeta_diff\u001b[38;5;132;01m:\u001b[39;00m\u001b[33m.3e\u001b[39m\u001b[38;5;132;01m}\u001b[39;00m\u001b[33m, Δwelfare_pct_change=\u001b[39m\u001b[38;5;132;01m{\u001b[39;00mwelfare_diff\u001b[38;5;132;01m:\u001b[39;00m\u001b[33m.3e\u001b[39m\u001b[38;5;132;01m}\u001b[39;00m\u001b[33m\"\u001b[39m)\n\u001b[32m     17\u001b[39m \u001b[38;5;28mprint\u001b[39m(\u001b[33mf\u001b[39m\u001b[33m\"\u001b[39m\u001b[33mTotal wall time: \u001b[39m\u001b[38;5;132;01m{\u001b[39;00mtotal_time\u001b[38;5;132;01m:\u001b[39;00m\u001b[33m.2f\u001b[39m\u001b[38;5;132;01m}\u001b[39;00m\u001b[33m s; per-share avg: \u001b[39m\u001b[38;5;132;01m{\u001b[39;00mtotal_time/\u001b[38;5;28mlen\u001b[39m(shares)\u001b[38;5;132;01m:\u001b[39;00m\u001b[33m.2f\u001b[39m\u001b[38;5;132;01m}\u001b[39;00m\u001b[33m s\u001b[39m\u001b[33m\"\u001b[39m)\n",
      "\u001b[31mAssertionError\u001b[39m: Baseline cross-check failed"
     ]
    }
   ],
   "source": [
    "baseline_share = 0.50\n",
    "baseline_calc = run_for_share(baseline_share, ctx)\n",
    "baseline_row = results_df.loc[results_df['target_avg_cost_share'] == baseline_share].iloc[0]\n",
    "\n",
    "tol_beta = 1e-6\n",
    "tol_welfare = 1e-6\n",
    "beta_diff = abs(baseline_calc['bar_beta_opt'] - baseline_row['bar_beta_opt'])\n",
    "welfare_diff = abs(baseline_calc['welfare_pct_change'] - baseline_row['welfare_pct_change'])\n",
    "\n",
    "if beta_diff <= tol_beta and welfare_diff <= tol_welfare:\n",
    "    status = \"passed\"\n",
    "else:\n",
    "    status = \"FAILED\"\n",
    "    raise AssertionError(\"Baseline cross-check failed\")\n",
    "\n",
    "print(f\"Baseline cross-check {status}: Δbar_beta_opt={beta_diff:.3e}, Δwelfare_pct_change={welfare_diff:.3e}\")\n",
    "print(f\"Total wall time: {total_time:.2f} s; per-share avg: {total_time/len(shares):.2f} s\")\n",
    "print(f\"{len(shares)} shares evaluated\")\n",
    "print(f\"CSV saved to {csv_path}\")\n",
    "print(f\"PNG saved to {png_path}\")"
   ]
  },
  {
   "cell_type": "code",
   "execution_count": null,
   "id": "f919d407",
   "metadata": {},
   "outputs": [],
   "source": [
    "display(results_df.head(5))\n",
    "display(results_df.tail(5))"
   ]
  }
 ],
 "metadata": {
  "kernelspec": {
   "display_name": "Python (optimal-ipr)",
   "language": "python",
   "name": "optimal-ipr"
  },
  "language_info": {
   "codemirror_mode": {
    "name": "ipython",
    "version": 3
   },
   "file_extension": ".py",
   "mimetype": "text/x-python",
   "name": "python",
   "nbconvert_exporter": "python",
   "pygments_lexer": "ipython3",
   "version": "3.13.6"
  }
 },
 "nbformat": 4,
 "nbformat_minor": 5
}

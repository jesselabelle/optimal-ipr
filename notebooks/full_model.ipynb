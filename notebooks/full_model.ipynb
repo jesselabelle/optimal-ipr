{
 "cells": [
  {
   "cell_type": "code",
   "execution_count": 1,
   "id": "fd8f6097",
   "metadata": {},
   "outputs": [],
   "source": [
    "from pathlib import Path\n",
    "import sys\n",
    "\n",
    "here = Path.cwd()\n",
    "repo_root = next(p for p in [here, *here.parents] if (p/\"pyproject.toml\").exists())\n",
    "src = repo_root / \"src\"\n",
    "if str(src) not in sys.path:\n",
    "    sys.path.insert(0, str(src))\n",
    "\n",
    "import numpy as np\n",
    "import pandas as pd\n",
    "import matplotlib.pyplot as plt"
   ]
  },
  {
   "cell_type": "code",
   "execution_count": 2,
   "id": "814f3dc6-6a7f-4584-a100-121d287642c0",
   "metadata": {},
   "outputs": [],
   "source": [
    "from optimal_ipr.distributions import value_distribution, build_theta_distribution\n",
    "from optimal_ipr.probability import build_subjective_probability\n",
    "from optimal_ipr.cost import build_cost_function\n",
    "from optimal_ipr.fee import build_fee_schedule\n",
    "from optimal_ipr.lookup import build_lookup_tables\n",
    "from optimal_ipr.outcomes import welfare_outcomes\n",
    "from optimal_ipr.baseline import BaselineModel\n",
    "from optimal_ipr.regulator import RegulatorModel\n",
    "from optimal_ipr.government import GovernmentModel"
   ]
  },
  {
   "cell_type": "code",
   "execution_count": 3,
   "id": "9b717e93-813e-457b-a26e-badfcf431206",
   "metadata": {},
   "outputs": [],
   "source": [
    "# value distribution\n",
    "test_n_v = 51\n",
    "test_sigma = 3.0\n",
    "\n",
    "v_grid, v_weights = value_distribution(n_v=test_n_v, sigma=test_sigma)"
   ]
  },
  {
   "cell_type": "code",
   "execution_count": 4,
   "id": "f316df3e-3edb-43df-892d-96131aee8885",
   "metadata": {},
   "outputs": [],
   "source": [
    "# theta distribution\n",
    "f, F, F_inv = build_theta_distribution(noise_level=0.20)\n",
    "\n",
    "# scalar wrapper for F when a scalar is required\n",
    "F_scalar = lambda t: float(F(np.array([t])))"
   ]
  },
  {
   "cell_type": "code",
   "execution_count": 5,
   "id": "f9c3ae36-a70e-4447-b6ac-100b94a323c1",
   "metadata": {},
   "outputs": [],
   "source": [
    "p = build_subjective_probability(base_k=1.2, m_comp=5, F=F, F_inv=F_inv)"
   ]
  },
  {
   "cell_type": "code",
   "execution_count": 6,
   "id": "5048319a-9a1b-4798-a7ae-1c0343408c1e",
   "metadata": {},
   "outputs": [],
   "source": [
    "c = build_cost_function(f, TARGET_AVG_COST_SHARE=0.50, C_MIN_COST=0.05, GAMMA_C_COST=3.0)"
   ]
  },
  {
   "cell_type": "code",
   "execution_count": 7,
   "id": "1a4e698a-5c98-4751-b197-c1544fc8d598",
   "metadata": {},
   "outputs": [],
   "source": [
    "Z = build_fee_schedule(zeta=0.04, fee_M=1.5)"
   ]
  },
  {
   "cell_type": "code",
   "execution_count": null,
   "id": "f6a71ddb-5440-4881-8c8f-4e1c1f6b30fa",
   "metadata": {},
   "outputs": [],
   "source": [
    "tau_d_grid = np.array([0.15, 0.20, 0.25, 0.30])\n",
    "tau_f_grid = np.array([0.0, 0.05, 0.10, 0.15])\n",
    "bar_beta_grid = np.linspace(0.0, 1.0, 101)\n",
    "\n",
    "reg_prefs = {\n",
    "    \"welfarist_balanced\": {\"phi\": 0.6, \"psi\": 0.3},\n",
    "    #\"pro_innovation\":     {\"phi\": 0.9, \"psi\": 0.1},\n",
    "    #\"public_good\":        {\"phi\": 0.1, \"psi\": 0.9},\n",
    "    #\"utilitarian\":        \"special_case\",\n",
    "    #\"rawlsian\":           \"special_case\"\n",
    "}\n",
    "\n",
    "gov_prefs = {\n",
    "    \"utilitarian\":          lambda th: 1.0,\n",
    "    #\"elitist\":              lambda th: 1.0 + th,\n",
    "    #\"strongly_elitist\":     lambda th: (1.0 + th)**2,\n",
    "    #\"egalitarian\":          lambda th: 1.0 / (1.0 + th),\n",
    "    #\"strongly_egalitarian\": lambda th: 1.0 / (1.0 + th)**2\n",
    "}"
   ]
  },
  {
   "cell_type": "code",
   "execution_count": 9,
   "id": "0c1a9b15-703f-4663-a80d-8067d2a7b157",
   "metadata": {},
   "outputs": [
    {
     "data": {
      "application/vnd.jupyter.widget-view+json": {
       "model_id": "5068630204d44aeca921147002261991",
       "version_major": 2,
       "version_minor": 0
      },
      "text/plain": [
       "Processing tau pairs:   0%|          | 0/2 [00:00<?, ?it/s]"
      ]
     },
     "metadata": {},
     "output_type": "display_data"
    }
   ],
   "source": [
    "theta_tilde_table, theta_winner_table, get_tau_d_index, get_tau_f_index, get_bar_beta_index, get_v_index = \\\n",
    "    build_lookup_tables(p, c, Z, f, F_scalar, tau_d_grid, tau_f_grid, bar_beta_grid, v_grid)"
   ]
  },
  {
   "cell_type": "code",
   "execution_count": 10,
   "id": "36ae7ed9-5806-4de0-8da8-76caa8fe1cc6",
   "metadata": {},
   "outputs": [
    {
     "data": {
      "application/vnd.microsoft.datawrangler.viewer.v0+json": {
       "columns": [
        {
         "name": "index",
         "rawType": "int64",
         "type": "integer"
        },
        {
         "name": "Tau D",
         "rawType": "float64",
         "type": "float"
        },
        {
         "name": "Tau F",
         "rawType": "float64",
         "type": "float"
        },
        {
         "name": "Gov Pref",
         "rawType": "object",
         "type": "string"
        },
        {
         "name": "Reg Pref",
         "rawType": "object",
         "type": "string"
        },
        {
         "name": "Optimal Patent Breadth Cap",
         "rawType": "float64",
         "type": "float"
        },
        {
         "name": "Expected Optimal Patent Breadth Granted",
         "rawType": "float64",
         "type": "float"
        },
        {
         "name": "Welfare % Change",
         "rawType": "float64",
         "type": "float"
        },
        {
         "name": "Innovator Welfare % Change",
         "rawType": "float64",
         "type": "float"
        },
        {
         "name": "Imitator Welfare % Change",
         "rawType": "float64",
         "type": "float"
        },
        {
         "name": "Non-Investor Welfare % Change",
         "rawType": "float64",
         "type": "float"
        }
       ],
       "ref": "3291d3f6-97af-4122-8bd8-98db36d5f9ab",
       "rows": [
        [
         "0",
         "0.15",
         "0.0",
         "utilitarian",
         "welfarist_balanced",
         "0.9400000000000001",
         "0.9400000000000001",
         "1.1239587966843678",
         "-6.205493918940215",
         "8.491011698085225",
         "113.9999870487438"
        ],
        [
         "1",
         "0.2",
         "0.0",
         "utilitarian",
         "welfarist_balanced",
         "0.88",
         "0.8800000000000001",
         "2.2273230858673485",
         "-12.42450307661909",
         "15.989817681337646",
         "227.99982392236095"
        ]
       ],
       "shape": {
        "columns": 10,
        "rows": 2
       }
      },
      "text/html": [
       "<div>\n",
       "<style scoped>\n",
       "    .dataframe tbody tr th:only-of-type {\n",
       "        vertical-align: middle;\n",
       "    }\n",
       "\n",
       "    .dataframe tbody tr th {\n",
       "        vertical-align: top;\n",
       "    }\n",
       "\n",
       "    .dataframe thead th {\n",
       "        text-align: right;\n",
       "    }\n",
       "</style>\n",
       "<table border=\"1\" class=\"dataframe\">\n",
       "  <thead>\n",
       "    <tr style=\"text-align: right;\">\n",
       "      <th></th>\n",
       "      <th>Tau D</th>\n",
       "      <th>Tau F</th>\n",
       "      <th>Gov Pref</th>\n",
       "      <th>Reg Pref</th>\n",
       "      <th>Optimal Patent Breadth Cap</th>\n",
       "      <th>Expected Optimal Patent Breadth Granted</th>\n",
       "      <th>Welfare % Change</th>\n",
       "      <th>Innovator Welfare % Change</th>\n",
       "      <th>Imitator Welfare % Change</th>\n",
       "      <th>Non-Investor Welfare % Change</th>\n",
       "    </tr>\n",
       "  </thead>\n",
       "  <tbody>\n",
       "    <tr>\n",
       "      <th>0</th>\n",
       "      <td>0.15</td>\n",
       "      <td>0.0</td>\n",
       "      <td>utilitarian</td>\n",
       "      <td>welfarist_balanced</td>\n",
       "      <td>0.94</td>\n",
       "      <td>0.94</td>\n",
       "      <td>1.123959</td>\n",
       "      <td>-6.205494</td>\n",
       "      <td>8.491012</td>\n",
       "      <td>113.999987</td>\n",
       "    </tr>\n",
       "    <tr>\n",
       "      <th>1</th>\n",
       "      <td>0.20</td>\n",
       "      <td>0.0</td>\n",
       "      <td>utilitarian</td>\n",
       "      <td>welfarist_balanced</td>\n",
       "      <td>0.88</td>\n",
       "      <td>0.88</td>\n",
       "      <td>2.227323</td>\n",
       "      <td>-12.424503</td>\n",
       "      <td>15.989818</td>\n",
       "      <td>227.999824</td>\n",
       "    </tr>\n",
       "  </tbody>\n",
       "</table>\n",
       "</div>"
      ],
      "text/plain": [
       "   Tau D  Tau F     Gov Pref            Reg Pref  Optimal Patent Breadth Cap  \\\n",
       "0   0.15    0.0  utilitarian  welfarist_balanced                        0.94   \n",
       "1   0.20    0.0  utilitarian  welfarist_balanced                        0.88   \n",
       "\n",
       "   Expected Optimal Patent Breadth Granted  Welfare % Change  \\\n",
       "0                                     0.94          1.123959   \n",
       "1                                     0.88          2.227323   \n",
       "\n",
       "   Innovator Welfare % Change  Imitator Welfare % Change  \\\n",
       "0                   -6.205494                   8.491012   \n",
       "1                  -12.424503                  15.989818   \n",
       "\n",
       "   Non-Investor Welfare % Change  \n",
       "0                     113.999987  \n",
       "1                     227.999824  "
      ]
     },
     "execution_count": 10,
     "metadata": {},
     "output_type": "execute_result"
    }
   ],
   "source": [
    "results_table = welfare_outcomes(\n",
    "    tau_d=tau_d_grid,\n",
    "    tau_f=tau_f_grid,\n",
    "    gov_prefs=gov_prefs,\n",
    "    reg_prefs=reg_prefs,\n",
    "    v_grid=v_grid,\n",
    "    v_weights=v_weights,\n",
    "    theta_tilde_table=theta_tilde_table,\n",
    "    theta_winner_table=theta_winner_table,\n",
    "    f=f,\n",
    "    F=F,            # vectorized is fine; module wraps when needed\n",
    "    F_inv=F_inv,\n",
    "    p=p,\n",
    "    c=c,\n",
    "    Z=Z,\n",
    "    feas=False,      # enforce feasibility\n",
    ")\n",
    "\n",
    "results_table"
   ]
  },
  {
   "cell_type": "code",
   "execution_count": 11,
   "id": "8321ab75-ea50-4ffd-9553-fbb5f4ceb415",
   "metadata": {},
   "outputs": [],
   "source": [
    "results_path = repo_root / \"results\"\n",
    "if str(results_path) not in sys.path:\n",
    "    sys.path.insert(0, str(results_path))\n",
    "\n",
    "csv_path = results_path / \"full_model_results.csv\"\n",
    "results_table.to_csv(csv_path, index=False)"
   ]
  }
 ],
 "metadata": {
  "kernelspec": {
   "display_name": "Python (optimal-ipr)",
   "language": "python",
   "name": "optimal-ipr"
  },
  "language_info": {
   "codemirror_mode": {
    "name": "ipython",
    "version": 3
   },
   "file_extension": ".py",
   "mimetype": "text/x-python",
   "name": "python",
   "nbconvert_exporter": "python",
   "pygments_lexer": "ipython3",
   "version": "3.13.6"
  }
 },
 "nbformat": 4,
 "nbformat_minor": 5
}

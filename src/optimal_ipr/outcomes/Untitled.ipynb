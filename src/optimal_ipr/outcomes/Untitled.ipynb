{
 "cells": [
  {
   "cell_type": "code",
   "execution_count": 2,
   "id": "78ba8b4b-2e96-450a-be79-1989eb9e62dd",
   "metadata": {},
   "outputs": [],
   "source": [
    "from pathlib import Path\n",
    "import sys\n",
    "\n",
    "here = Path.cwd()\n",
    "repo_root = next(p for p in [here, *here.parents] if (p/\"pyproject.toml\").exists())\n",
    "src = repo_root / \"src\"\n",
    "if str(src) not in sys.path:\n",
    "    sys.path.insert(0, str(src))\n",
    "\n",
    "import numpy as np\n",
    "import pandas as pd\n",
    "import matplotlib.pyplot as plt"
   ]
  },
  {
   "cell_type": "code",
   "execution_count": 4,
   "id": "d70630ec-4964-4c67-83e2-1a41d6a0372d",
   "metadata": {},
   "outputs": [],
   "source": [
    "from optimal_ipr.baseline import baseline_model"
   ]
  },
  {
   "cell_type": "code",
   "execution_count": null,
   "id": "c795a9e8-2b91-43c3-90b7-047b35c39d3b",
   "metadata": {},
   "outputs": [],
   "source": []
  }
 ],
 "metadata": {
  "kernelspec": {
   "display_name": "Python (optimal-ipr)",
   "language": "python",
   "name": "optimal-ipr"
  },
  "language_info": {
   "codemirror_mode": {
    "name": "ipython",
    "version": 3
   },
   "file_extension": ".py",
   "mimetype": "text/x-python",
   "name": "python",
   "nbconvert_exporter": "python",
   "pygments_lexer": "ipython3",
   "version": "3.13.6"
  }
 },
 "nbformat": 4,
 "nbformat_minor": 5
}

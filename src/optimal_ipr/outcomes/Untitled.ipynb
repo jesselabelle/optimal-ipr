{
 "cells": [
  {
   "cell_type": "code",
   "execution_count": 1,
   "id": "78ba8b4b-2e96-450a-be79-1989eb9e62dd",
   "metadata": {},
   "outputs": [],
   "source": [
    "from pathlib import Path\n",
    "import sys\n",
    "\n",
    "here = Path.cwd()\n",
    "repo_root = next(p for p in [here, *here.parents] if (p/\"pyproject.toml\").exists())\n",
    "src = repo_root / \"src\"\n",
    "if str(src) not in sys.path:\n",
    "    sys.path.insert(0, str(src))\n",
    "\n",
    "import numpy as np\n",
    "import pandas as pd\n",
    "import matplotlib.pyplot as plt"
   ]
  },
  {
   "cell_type": "code",
   "execution_count": 2,
   "id": "d70630ec-4964-4c67-83e2-1a41d6a0372d",
   "metadata": {},
   "outputs": [],
   "source": [
    "from optimal_ipr.baseline import BaselineModel"
   ]
  },
  {
   "cell_type": "code",
   "execution_count": 3,
   "id": "5e7af5f1-bf40-4e9f-854b-c7f8f9213d05",
   "metadata": {},
   "outputs": [],
   "source": [
    "td = 0.2\n",
    "tf = 0.05\n",
    "gov_prefs = {\"utilitarian\": lambda th: 1.0}"
   ]
  },
  {
   "cell_type": "code",
   "execution_count": 4,
   "id": "c795a9e8-2b91-43c3-90b7-047b35c39d3b",
   "metadata": {},
   "outputs": [
    {
     "ename": "NameError",
     "evalue": "name 'v_grid' is not defined",
     "output_type": "error",
     "traceback": [
      "\u001b[31m---------------------------------------------------------------------------\u001b[39m",
      "\u001b[31mNameError\u001b[39m                                 Traceback (most recent call last)",
      "\u001b[36mCell\u001b[39m\u001b[36m \u001b[39m\u001b[32mIn[4]\u001b[39m\u001b[32m, line 3\u001b[39m\n\u001b[32m      1\u001b[39m baseline = BaselineModel(\n\u001b[32m      2\u001b[39m                 tau_d=\u001b[38;5;28mfloat\u001b[39m(td), tau_f=\u001b[38;5;28mfloat\u001b[39m(tf), gov_prefs=gov_prefs,\n\u001b[32m----> \u001b[39m\u001b[32m3\u001b[39m                 v_grid=\u001b[43mv_grid\u001b[49m, v_weights=v_weights,\n\u001b[32m      4\u001b[39m                 master_lookup_table=theta_tilde_table, master_winner_table=theta_winner_table,\n\u001b[32m      5\u001b[39m                 theta_points=theta_points, theta_weights=theta_weights,\n\u001b[32m      6\u001b[39m                 F=\u001b[38;5;28;01mlambda\u001b[39;00m t: \u001b[38;5;28mfloat\u001b[39m(F(np.array([t]))) \u001b[38;5;28;01mif\u001b[39;00m \u001b[38;5;28mcallable\u001b[39m(F) \u001b[38;5;28;01melse\u001b[39;00m F,\n\u001b[32m      7\u001b[39m                 c=c, Z=Z, n_total_firms=_N_TOTAL_FIRMS,\n\u001b[32m      8\u001b[39m                 get_tau_d_index=get_tau_d_index, get_tau_f_index=get_tau_f_index,\n\u001b[32m      9\u001b[39m                 get_bar_beta_index=get_bar_beta_index, get_v_index=get_v_index,\n\u001b[32m     10\u001b[39m             )\n",
      "\u001b[31mNameError\u001b[39m: name 'v_grid' is not defined"
     ]
    }
   ],
   "source": [
    "baseline = BaselineModel(\n",
    "                tau_d=float(td), tau_f=float(tf), gov_prefs=gov_prefs,\n",
    "                v_grid=v_grid, v_weights=v_weights,\n",
    "                master_lookup_table=theta_tilde_table, master_winner_table=theta_winner_table,\n",
    "                theta_points=theta_points, theta_weights=theta_weights,\n",
    "                F=lambda t: float(F(np.array([t]))) if callable(F) else F,\n",
    "                c=c, Z=Z, n_total_firms=_N_TOTAL_FIRMS,\n",
    "                get_tau_d_index=get_tau_d_index, get_tau_f_index=get_tau_f_index,\n",
    "                get_bar_beta_index=get_bar_beta_index, get_v_index=get_v_index,\n",
    "            )"
   ]
  },
  {
   "cell_type": "code",
   "execution_count": null,
   "id": "e8bdd9e6-1767-4ccc-8a5f-c6972242d160",
   "metadata": {},
   "outputs": [],
   "source": [
    "# The solve() method returns a single Pandas Series with all expected values.\n",
    "for gov_name in gov_prefs.keys():\n",
    "    baseline_series = baseline_model.solve(government_scheme=gov_name)"
   ]
  },
  {
   "cell_type": "code",
   "execution_count": null,
   "id": "fb55b662-a0b4-4b21-9ac8-fe44ec8ac400",
   "metadata": {},
   "outputs": [],
   "source": [
    "baseline_series"
   ]
  }
 ],
 "metadata": {
  "kernelspec": {
   "display_name": "Python (optimal-ipr)",
   "language": "python",
   "name": "optimal-ipr"
  },
  "language_info": {
   "codemirror_mode": {
    "name": "ipython",
    "version": 3
   },
   "file_extension": ".py",
   "mimetype": "text/x-python",
   "name": "python",
   "nbconvert_exporter": "python",
   "pygments_lexer": "ipython3",
   "version": "3.13.6"
  }
 },
 "nbformat": 4,
 "nbformat_minor": 5
}
